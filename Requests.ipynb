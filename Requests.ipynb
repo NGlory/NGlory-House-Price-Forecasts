{
 "cells": [
  {
   "cell_type": "markdown",
   "metadata": {},
   "source": [
    "# Requests\n",
    "\n",
    "In this